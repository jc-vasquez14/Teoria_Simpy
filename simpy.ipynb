{
 "cells": [
  {
   "cell_type": "markdown",
   "id": "768901a1",
   "metadata": {},
   "source": [
    "### Importacion de Librerias"
   ]
  },
  {
   "cell_type": "code",
   "execution_count": 1,
   "id": "2559e225",
   "metadata": {},
   "outputs": [],
   "source": [
    "import simpy\n",
    "import pandas as pd\n",
    "import numpy as np\n",
    "import random"
   ]
  },
  {
   "cell_type": "markdown",
   "id": "8f9537e5",
   "metadata": {},
   "source": [
    "### Definicion de clases, recursos y containers"
   ]
  },
  {
   "cell_type": "code",
   "execution_count": 2,
   "id": "f0db7d14",
   "metadata": {},
   "outputs": [],
   "source": [
    "class Piso:\n",
    "    def __init__(self, env, id, num_parqueos):\n",
    "        self.env = env\n",
    "        self.id = id\n",
    "        self.num_parqueos = simpy.Container(\n",
    "            env,\n",
    "            init=num_parqueos,\n",
    "            capacity=num_parqueos\n",
    "        )"
   ]
  },
  {
   "cell_type": "code",
   "execution_count": 3,
   "id": "3db91bf0",
   "metadata": {},
   "outputs": [],
   "source": [
    "class Estacionamiento:\n",
    "    def __init__(self, env, parquimetros, pisos):\n",
    "        self.env = env\n",
    "        self.pisos = pisos\n",
    "        self.parquimetros = simpy.Resource(env, capacity=parquimetros)"
   ]
  },
  {
   "cell_type": "code",
   "execution_count": 4,
   "id": "d629a98e",
   "metadata": {},
   "outputs": [],
   "source": [
    "class Carro:\n",
    "    def __init__(self):\n",
    "        pass"
   ]
  },
  {
   "cell_type": "code",
   "execution_count": 5,
   "id": "1c19cc65",
   "metadata": {},
   "outputs": [],
   "source": [
    "class Simulacion:\n",
    "    def __init__(self):\n",
    "        pass"
   ]
  },
  {
   "cell_type": "markdown",
   "id": "c4ed87df",
   "metadata": {},
   "source": [
    "### Inicio de Simulacion"
   ]
  }
 ],
 "metadata": {
  "kernelspec": {
   "display_name": "Python 3",
   "language": "python",
   "name": "python3"
  },
  "language_info": {
   "codemirror_mode": {
    "name": "ipython",
    "version": 3
   },
   "file_extension": ".py",
   "mimetype": "text/x-python",
   "name": "python",
   "nbconvert_exporter": "python",
   "pygments_lexer": "ipython3",
   "version": "3.12.7"
  }
 },
 "nbformat": 4,
 "nbformat_minor": 5
}
